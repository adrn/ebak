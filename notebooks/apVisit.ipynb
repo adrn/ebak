{
 "cells": [
  {
   "cell_type": "code",
   "execution_count": null,
   "metadata": {
    "collapsed": false
   },
   "outputs": [],
   "source": [
    "# Third-party\n",
    "from astropy.io import ascii, fits\n",
    "import astropy.coordinates as coord\n",
    "import astropy.units as u\n",
    "from astropy.constants import c\n",
    "import matplotlib as mpl\n",
    "import matplotlib.pyplot as pl\n",
    "import numpy as np\n",
    "from scipy.interpolate import interp1d\n",
    "\n",
    "pl.style.use('apw-notebook')\n",
    "%matplotlib inline\n",
    "# pl.style.use('classic')\n",
    "# %matplotlib notebook"
   ]
  },
  {
   "cell_type": "code",
   "execution_count": null,
   "metadata": {
    "collapsed": true
   },
   "outputs": [],
   "source": [
    "files = [\"../data/apVisit-r5-6994-56770-261.fits\", \"../data/apVisit-r5-6994-56794-177.fits\"]"
   ]
  },
  {
   "cell_type": "code",
   "execution_count": null,
   "metadata": {
    "collapsed": true
   },
   "outputs": [],
   "source": [
    "def load_file(filename, chip=None):\n",
    "    hdulist1 = fits.open(filename)\n",
    "    wvln = hdulist1[4].data\n",
    "    flux = hdulist1[1].data\n",
    "    flux_err = hdulist1[2].data\n",
    "    \n",
    "    if chip is None:\n",
    "        return {'wvln': wvln, 'flux': flux, 'flux_err': flux_err}\n",
    "    else:\n",
    "        return {'wvln': wvln[chip], 'flux': flux[chip], 'flux_err': flux_err[chip]}"
   ]
  },
  {
   "cell_type": "code",
   "execution_count": null,
   "metadata": {
    "collapsed": false
   },
   "outputs": [],
   "source": [
    "d['wvln'][2].min(), d['wvln'][0].max()"
   ]
  },
  {
   "cell_type": "code",
   "execution_count": null,
   "metadata": {
    "collapsed": false
   },
   "outputs": [],
   "source": [
    "fig,ax = pl.subplots(1,1,figsize=(12,6))\n",
    "for fn in files:\n",
    "    d = load_file(fn)\n",
    "#     for i in range(3):\n",
    "    i = 2\n",
    "    ax.plot(d['wvln'][i], d['flux'][i], drawstyle='steps', marker=None)"
   ]
  },
  {
   "cell_type": "markdown",
   "metadata": {},
   "source": [
    "---"
   ]
  },
  {
   "cell_type": "code",
   "execution_count": null,
   "metadata": {
    "collapsed": false
   },
   "outputs": [],
   "source": [
    "step = ((1*u.km/u.s) / c).decompose()\n",
    "step"
   ]
  },
  {
   "cell_type": "code",
   "execution_count": null,
   "metadata": {
    "collapsed": true
   },
   "outputs": [],
   "source": [
    "all_spectra = [load_file(f, chip=2) for f in files]"
   ]
  },
  {
   "cell_type": "code",
   "execution_count": null,
   "metadata": {
    "collapsed": false
   },
   "outputs": [],
   "source": [
    "M = int((np.log(all_spectra[0]['wvln'].max()) - np.log(all_spectra[0]['wvln'].min())) / step) + 1\n",
    "grid = np.exp(np.log(all_spectra[0]['wvln'].min()) + np.arange(M) * step)\n",
    "grid.size"
   ]
  },
  {
   "cell_type": "code",
   "execution_count": null,
   "metadata": {
    "collapsed": false
   },
   "outputs": [],
   "source": [
    "for spec in all_spectra:\n",
    "    interp_f = interp1d(spec['wvln'], spec['flux'], kind='cubic', bounds_error=False)\n",
    "    spec['interp_flux'] = interp_f(grid)"
   ]
  },
  {
   "cell_type": "code",
   "execution_count": null,
   "metadata": {
    "collapsed": false
   },
   "outputs": [],
   "source": [
    "for spec in all_spectra:\n",
    "    print(np.where(np.isnan(spec['interp_flux'])))"
   ]
  },
  {
   "cell_type": "code",
   "execution_count": null,
   "metadata": {
    "collapsed": false
   },
   "outputs": [],
   "source": [
    "fig,axes = pl.subplots(2,1,figsize=(12,12),sharex=True)\n",
    "\n",
    "axes[0].plot(all_spectra[0]['wvln'], all_spectra[0]['flux'], linestyle='none', marker='o')\n",
    "axes[0].plot(grid, all_spectra[0]['interp_flux'], linestyle='none', marker='.')\n",
    "\n",
    "axes[1].plot(all_spectra[1]['wvln'], all_spectra[1]['flux'], linestyle='none', marker='o')\n",
    "axes[1].plot(grid, all_spectra[1]['interp_flux'], linestyle='none', marker='.')\n",
    "\n",
    "axes[0].set_xlim(15500, 15504)\n",
    "axes[0].set_ylim(13000, 16000)"
   ]
  },
  {
   "cell_type": "code",
   "execution_count": null,
   "metadata": {
    "collapsed": true
   },
   "outputs": [],
   "source": [
    "def weight_function(size, edge_buffer=64):\n",
    "    w = np.ones(size)\n",
    "    \n",
    "    w[:edge_buffer] = 0.\n",
    "    w[edge_buffer:2*edge_buffer] = np.linspace(0.,1,edge_buffer)\n",
    "    w[-edge_buffer:] = 0.\n",
    "    w[-2*edge_buffer:-edge_buffer] = np.linspace(1,0.,edge_buffer)\n",
    "    \n",
    "    return w\n",
    "\n",
    "edge_buffer = 64\n",
    "weight = weight_function(grid.size, edge_buffer)"
   ]
  },
  {
   "cell_type": "code",
   "execution_count": null,
   "metadata": {
    "collapsed": true
   },
   "outputs": [],
   "source": [
    "for spec in all_spectra:\n",
    "    idx = np.where(np.isnan(spec['interp_flux']))\n",
    "    assert np.all(weight[idx] == 0)\n",
    "    spec['interp_flux'][idx] = 0."
   ]
  },
  {
   "cell_type": "code",
   "execution_count": null,
   "metadata": {
    "collapsed": false
   },
   "outputs": [],
   "source": [
    "fig,axes = pl.subplots(2,1,figsize=(12,12),sharex=True)\n",
    "\n",
    "axes[0].plot(all_spectra[0]['interp_flux']*weight_function(grid.size), linestyle='none', marker='o')\n",
    "axes[1].plot(all_spectra[1]['interp_flux']*weight_function(grid.size), linestyle='none', marker='o')\n",
    "\n",
    "# axes[0].set_xlim(0, 150)\n",
    "axes[0].set_xlim(all_spectra[0]['interp_flux'].size-150, all_spectra[0]['interp_flux'].size)"
   ]
  },
  {
   "cell_type": "code",
   "execution_count": null,
   "metadata": {
    "collapsed": false
   },
   "outputs": [],
   "source": [
    "for spec in all_spectra:\n",
    "    spec['mean_flux'] = np.sum(weight * spec['interp_flux']) / np.sum(weight)\n",
    "    print(spec['mean_flux'])"
   ]
  },
  {
   "cell_type": "code",
   "execution_count": null,
   "metadata": {
    "collapsed": true
   },
   "outputs": [],
   "source": [
    "def xcor_spectra(spec1, spec2, weight, d_index):\n",
    "    assert d_index > 0\n",
    "    ws1 = weight * (spec1['interp_flux'] - spec1['mean_flux'])\n",
    "    ws2 = weight * (spec2['interp_flux'] - spec2['mean_flux'])\n",
    "    denom = np.sum(weight[:-d_index] * weight[d_index:])\n",
    "    return np.sum(ws1[:-d_index] * ws2[d_index:]) / denom"
   ]
  },
  {
   "cell_type": "code",
   "execution_count": null,
   "metadata": {
    "collapsed": false
   },
   "outputs": [],
   "source": [
    "shifts = np.arange(1, 64+1, 1)"
   ]
  },
  {
   "cell_type": "code",
   "execution_count": null,
   "metadata": {
    "collapsed": false
   },
   "outputs": [],
   "source": [
    "# -- spec1, spec1\n",
    "# -- spec2, spec2\n",
    "for spec in all_spectra:\n",
    "    acors = np.zeros_like(shifts)\n",
    "    for j,i in enumerate(shifts):\n",
    "        acors[j] = xcor_spectra(spec, spec, weight, i)\n",
    "\n",
    "    pl.plot(shifts, acors)\n",
    "    \n",
    "# -- spec1, spec2\n",
    "xcors = np.zeros_like(shifts)\n",
    "for j,i in enumerate(shifts):\n",
    "    xcors[j] = xcor_spectra(all_spectra[0], all_spectra[1], weight, i)\n",
    "\n",
    "pl.plot(shifts, xcors)\n",
    "\n",
    "# -- spec2, spec1\n",
    "xcors = np.zeros_like(shifts)\n",
    "for j,i in enumerate(shifts):\n",
    "    xcors[j] = xcor_spectra(all_spectra[1], all_spectra[0], weight, i)\n",
    "\n",
    "pl.plot(shifts, xcors)"
   ]
  },
  {
   "cell_type": "code",
   "execution_count": null,
   "metadata": {
    "collapsed": true
   },
   "outputs": [],
   "source": []
  }
 ],
 "metadata": {
  "kernelspec": {
   "display_name": "Python 3",
   "language": "python",
   "name": "python3"
  },
  "language_info": {
   "codemirror_mode": {
    "name": "ipython",
    "version": 3
   },
   "file_extension": ".py",
   "mimetype": "text/x-python",
   "name": "python",
   "nbconvert_exporter": "python",
   "pygments_lexer": "ipython3",
   "version": "3.5.1"
  }
 },
 "nbformat": 4,
 "nbformat_minor": 0
}