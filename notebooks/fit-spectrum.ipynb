{
 "cells": [
  {
   "cell_type": "markdown",
   "metadata": {},
   "source": [
    "To finish, check out: http://articles.adsabs.harvard.edu/cgi-bin/nph-iarticle_query?1992AJ....104.2213L&amp;data_type=PDF_HIGH&amp;whole_paper=YES&amp;type=PRINTER&amp;filetype=.pdf"
   ]
  },
  {
   "cell_type": "code",
   "execution_count": null,
   "metadata": {
    "collapsed": false
   },
   "outputs": [],
   "source": [
    "# Third-party\n",
    "from astropy.io import ascii, fits\n",
    "import astropy.coordinates as coord\n",
    "import astropy.units as u\n",
    "from astropy.constants import c\n",
    "import matplotlib as mpl\n",
    "import matplotlib.pyplot as pl\n",
    "import numpy as np\n",
    "from scipy.interpolate import interp1d\n",
    "\n",
    "pl.style.use('apw-notebook')\n",
    "%matplotlib inline\n",
    "# pl.style.use('classic')\n",
    "# %matplotlib notebook"
   ]
  },
  {
   "cell_type": "code",
   "execution_count": null,
   "metadata": {
    "collapsed": true
   },
   "outputs": [],
   "source": [
    "data_files = [\"../data/apVisit-r5-6994-56770-261.fits\", \"../data/apVisit-r5-6994-56794-177.fits\"]\n",
    "model_file = \"../data/apStar-r5-2M00004994+1621552.fits\""
   ]
  },
  {
   "cell_type": "code",
   "execution_count": null,
   "metadata": {
    "collapsed": true
   },
   "outputs": [],
   "source": [
    "min_wvln = 15329\n",
    "max_wvln = 15359"
   ]
  },
  {
   "cell_type": "code",
   "execution_count": null,
   "metadata": {
    "collapsed": true
   },
   "outputs": [],
   "source": [
    "def load_file(filename, chip):\n",
    "    hdulist1 = fits.open(filename)\n",
    "    wvln = hdulist1[4].data[chip]\n",
    "    ix = (wvln >= min_wvln) & (wvln <= max_wvln)\n",
    "    \n",
    "    wvln = wvln[ix]\n",
    "    flux = hdulist1[1].data[chip,ix]\n",
    "    flux_err = hdulist1[2].data[chip,ix]\n",
    "    \n",
    "    return {'wvln': wvln, 'flux': flux, 'flux_err': flux_err}\n",
    "    \n",
    "def load_model_file(filename):\n",
    "    hdulist1 = fits.open(filename)\n",
    "    flux = hdulist1[1].data[0]\n",
    "    flux_err = hdulist1[2].data[0]\n",
    "    wvln = 10**(hdulist1[0].header['CRVAL1'] + np.arange(flux.size) * hdulist1[0].header['CDELT1'])\n",
    "    \n",
    "#     ix = (wvln >= min_wvln) & (wvln <= max_wvln)\n",
    "    ix = (wvln < 15750) & (wvln > 15150) # HACK: magic numbers\n",
    "    return {'wvln': wvln[ix], 'flux': flux[ix], 'flux_err': flux_err[ix]}"
   ]
  },
  {
   "cell_type": "code",
   "execution_count": null,
   "metadata": {
    "collapsed": false
   },
   "outputs": [],
   "source": [
    "d = load_file(fn, chip=2)\n",
    "d['wvln'].shape"
   ]
  },
  {
   "cell_type": "code",
   "execution_count": null,
   "metadata": {
    "collapsed": false
   },
   "outputs": [],
   "source": [
    "chip = 2\n",
    "\n",
    "fig,ax = pl.subplots(1,1,figsize=(12,6))\n",
    "\n",
    "for fn in data_files:\n",
    "    d = load_file(fn, chip=chip)\n",
    "    ax.plot(d['wvln'], d['flux'], drawstyle='steps', marker=None)\n",
    "    \n",
    "ref_spec = load_model_file(model_file)\n",
    "ax.plot(ref_spec['wvln'], 3.2*ref_spec['flux'], drawstyle='steps', marker=None, lw=2.) # HACK: scale up\n",
    "\n",
    "# _d = 175\n",
    "# ax.set_xlim(15150.+_d, 15175.+_d)\n",
    "# ax.set_ylim(10000, 20000)"
   ]
  },
  {
   "cell_type": "code",
   "execution_count": null,
   "metadata": {
    "collapsed": true
   },
   "outputs": [],
   "source": [
    "all_spectra = [load_file(f, chip=2) for f in files]"
   ]
  },
  {
   "cell_type": "code",
   "execution_count": null,
   "metadata": {
    "collapsed": false
   },
   "outputs": [],
   "source": [
    "ref_spec['interp'] = interp1d(ref_spec['wvln'], ref_spec['flux'], kind='cubic', bounds_error=False)"
   ]
  },
  {
   "cell_type": "code",
   "execution_count": null,
   "metadata": {
    "collapsed": true
   },
   "outputs": [],
   "source": [
    "def get_design_matrix(data, ref_spec, v1, v2):\n",
    "    \"\"\"\n",
    "    Note: Positive velocity is a redshift.\n",
    "    \"\"\"\n",
    "    X = np.ones((3, data['wvln'].shape[0]))\n",
    "    X[1] = ref_spec['interp'](data['wvln'] * (1 + v1/c)) # this is only good to first order in (v/c)\n",
    "    X[2] = ref_spec['interp'](data['wvln'] * (1 + v2/c))\n",
    "    return X"
   ]
  },
  {
   "cell_type": "code",
   "execution_count": null,
   "metadata": {
    "collapsed": false
   },
   "outputs": [],
   "source": [
    "def get_optimal_chisq(data, ref_spec, v1, v2):\n",
    "    X = get_design_matrix(data, ref_spec, v1, v2)\n",
    "    return np.linalg.solve( X.dot(X.T), X.dot(data['flux']) )"
   ]
  },
  {
   "cell_type": "code",
   "execution_count": null,
   "metadata": {
    "collapsed": false
   },
   "outputs": [],
   "source": [
    "spec_i = 1\n",
    "v1 = 35 * u.km/u.s\n",
    "v2 = -5 * u.km/u.s\n",
    "X = get_design_matrix(all_spectra[spec_i], ref_spec, v1, v2)\n",
    "opt_pars = get_optimal_chisq(all_spectra[spec_i], ref_spec, v1, v2)\n",
    "opt_pars"
   ]
  },
  {
   "cell_type": "code",
   "execution_count": null,
   "metadata": {
    "collapsed": true
   },
   "outputs": [],
   "source": [
    "def make_synthetic_spectrum(X, pars):\n",
    "    return X.T.dot(pars)\n",
    "\n",
    "def compute_chisq(data, X, opt_pars):\n",
    "    synth_spec = make_synthetic_spectrum(X, opt_pars)\n",
    "    return -np.sum((synth_spec - data['flux'])**2)"
   ]
  },
  {
   "cell_type": "code",
   "execution_count": null,
   "metadata": {
    "collapsed": false
   },
   "outputs": [],
   "source": [
    "# opt_pars = np.array([1.1E+4, 0.5,  0.5])\n",
    "synth_spec = make_synthetic_spectrum(X, opt_pars)"
   ]
  },
  {
   "cell_type": "code",
   "execution_count": null,
   "metadata": {
    "collapsed": false
   },
   "outputs": [],
   "source": [
    "pl.plot(all_spectra[spec_i]['wvln'], all_spectra[spec_i]['flux'], marker=None, drawstyle='steps')\n",
    "pl.plot(all_spectra[spec_i]['wvln'], synth_spec, marker=None, drawstyle='steps')"
   ]
  },
  {
   "cell_type": "code",
   "execution_count": null,
   "metadata": {
    "collapsed": false
   },
   "outputs": [],
   "source": [
    "_v1_grid = np.linspace(25, 45, 32)\n",
    "_v2_grid = np.linspace(-15, 5, 32)\n",
    "shp = (_v1_grid.size, _v2_grid.size)\n",
    "v_grid = np.vstack(map(np.ravel, np.meshgrid(_v1_grid, _v2_grid))).T\n",
    "v_grid.shape"
   ]
  },
  {
   "cell_type": "code",
   "execution_count": null,
   "metadata": {
    "collapsed": false
   },
   "outputs": [],
   "source": [
    "chisq = np.zeros(v_grid.shape[0])\n",
    "for i in range(v_grid.shape[0]):\n",
    "    v1,v2 = v_grid[i]\n",
    "    opt_pars = get_optimal_chisq(all_spectra[spec_i], ref_spec, \n",
    "                                 v1*u.km/u.s, v2*u.km/u.s)\n",
    "    chisq[i] = compute_chisq(all_spectra[spec_i], X, opt_pars)"
   ]
  },
  {
   "cell_type": "code",
   "execution_count": null,
   "metadata": {
    "collapsed": false
   },
   "outputs": [],
   "source": [
    "fig,ax = pl.subplots(1,1,figsize=(9,8))\n",
    "\n",
    "cb = ax.pcolormesh(v_grid[:,0].reshape(shp), v_grid[:,1].reshape(shp), \n",
    "                   chisq.reshape(shp), cmap='magma')\n",
    "\n",
    "fig.colorbar(cb)"
   ]
  },
  {
   "cell_type": "code",
   "execution_count": null,
   "metadata": {
    "collapsed": false
   },
   "outputs": [],
   "source": [
    "fig,ax = pl.subplots(1,1,figsize=(9,8))\n",
    "\n",
    "cb = ax.pcolormesh(v_grid[:,0].reshape(shp), v_grid[:,1].reshape(shp), \n",
    "                   np.exp(chisq-chisq.max()).reshape(shp), cmap='magma')\n",
    "\n",
    "fig.colorbar(cb)"
   ]
  },
  {
   "cell_type": "code",
   "execution_count": null,
   "metadata": {
    "collapsed": false
   },
   "outputs": [],
   "source": [
    "fig,ax = pl.subplots(1,1,figsize=(9,8))\n",
    "\n",
    "cb = ax.pcolormesh(v_grid[:,0].reshape(shp), v_grid[:,1].reshape(shp), \n",
    "                   chisq.reshape(shp), cmap='magma')\n",
    "\n",
    "fig.colorbar(cb)"
   ]
  },
  {
   "cell_type": "code",
   "execution_count": null,
   "metadata": {
    "collapsed": false
   },
   "outputs": [],
   "source": [
    "fig,ax = pl.subplots(1,1,figsize=(9,8))\n",
    "\n",
    "cb = ax.pcolormesh(v_grid[:,0].reshape(shp), v_grid[:,1].reshape(shp), \n",
    "                   np.exp(chisq-chisq.max()).reshape(shp), cmap='magma')\n",
    "\n",
    "fig.colorbar(cb)"
   ]
  },
  {
   "cell_type": "markdown",
   "metadata": {
    "collapsed": true
   },
   "source": [
    "---\n",
    "\n",
    "try using levmar to optimize"
   ]
  },
  {
   "cell_type": "code",
   "execution_count": null,
   "metadata": {
    "collapsed": true
   },
   "outputs": [],
   "source": [
    "from scipy.optimize import leastsq"
   ]
  },
  {
   "cell_type": "code",
   "execution_count": null,
   "metadata": {
    "collapsed": true
   },
   "outputs": [],
   "source": [
    "def errfunc(pars, data_spec, ref_spec):\n",
    "    v1,v2,a,b,c = pars\n",
    "    X = get_design_matrix(data_spec, ref_spec, v1*u.km/u.s, v2*u.km/u.s)\n",
    "    synth_spec = make_synthetic_spectrum(X, [a,b,c])\n",
    "    return (synth_spec - data_spec['flux'])"
   ]
  },
  {
   "cell_type": "code",
   "execution_count": null,
   "metadata": {
    "collapsed": false
   },
   "outputs": [],
   "source": [
    "levmar_opt_pars,ier = leastsq(errfunc, x0=[35,-5]+opt_pars.tolist(), args=(all_spectra[0], ref_spec))"
   ]
  },
  {
   "cell_type": "code",
   "execution_count": null,
   "metadata": {
    "collapsed": false
   },
   "outputs": [],
   "source": [
    "levmar_opt_pars"
   ]
  },
  {
   "cell_type": "code",
   "execution_count": null,
   "metadata": {
    "collapsed": false
   },
   "outputs": [],
   "source": [
    "data_spec = all_spectra[0]\n",
    "X = get_design_matrix(data_spec, ref_spec, levmar_opt_pars[0]*u.km/u.s, levmar_opt_pars[1]*u.km/u.s)\n",
    "synth_spec = make_synthetic_spectrum(X, levmar_opt_pars[2:])\n",
    "pl.plot(data_spec['wvln'], data_spec['flux'], marker=None, drawstyle='steps')\n",
    "pl.plot(data_spec['wvln'], synth_spec, marker=None, drawstyle='steps')"
   ]
  },
  {
   "cell_type": "code",
   "execution_count": null,
   "metadata": {
    "collapsed": true
   },
   "outputs": [],
   "source": []
  }
 ],
 "metadata": {
  "kernelspec": {
   "display_name": "Python 3",
   "language": "python",
   "name": "python3"
  },
  "language_info": {
   "codemirror_mode": {
    "name": "ipython",
    "version": 3
   },
   "file_extension": ".py",
   "mimetype": "text/x-python",
   "name": "python",
   "nbconvert_exporter": "python",
   "pygments_lexer": "ipython3",
   "version": "3.5.1"
  }
 },
 "nbformat": 4,
 "nbformat_minor": 0
}