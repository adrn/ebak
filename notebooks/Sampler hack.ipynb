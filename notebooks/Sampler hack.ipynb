{
 "cells": [
  {
   "cell_type": "code",
   "execution_count": null,
   "metadata": {
    "collapsed": false
   },
   "outputs": [],
   "source": [
    "import astropy.units as u\n",
    "import numpy as np\n",
    "import matplotlib.pyplot as plt\n",
    "plt.style.use('apw-notebook')\n",
    "%matplotlib inline\n",
    "from scipy.interpolate import interp1d\n",
    "\n",
    "from ebak import SimulatedRVOrbit\n",
    "from ebak.singleline import RVData\n",
    "from ebak.sampler import (design_matrix, sinusoid_model, period_grid, tensor_vector_scalar, \n",
    "                          marginal_ln_likelihood, sample_posterior)"
   ]
  },
  {
   "cell_type": "markdown",
   "metadata": {},
   "source": [
    "## Working in units of [day, km/s], generate some fake data:"
   ]
  },
  {
   "cell_type": "code",
   "execution_count": null,
   "metadata": {
    "collapsed": false
   },
   "outputs": [],
   "source": [
    "np.random.seed(42)\n",
    "n_data = 9\n",
    "\n",
    "n_terms = 1\n",
    "true_p = np.array([-131.2, 3., 0.1])\n",
    "true_P = 53.1 # days\n",
    "\n",
    "t = np.full(n_data, 56712.) + np.random.uniform(0, 32, n_data)*true_P\n",
    "rv = sinusoid_model(true_p, t, true_P)\n",
    "\n",
    "sigma = np.ones_like(t) * 0.3 # typical uncertainty\n",
    "rv += np.random.normal(0, sigma)\n",
    "\n",
    "inv_var = 1 / sigma**2\n",
    "\n",
    "data = RVData(t, rv*u.km/u.s, ivar=inv_var/(u.km/u.s)**2)"
   ]
  },
  {
   "cell_type": "code",
   "execution_count": null,
   "metadata": {
    "collapsed": false,
    "scrolled": true
   },
   "outputs": [],
   "source": [
    "# plot the curve for the true model\n",
    "_t = np.linspace(t.min(), t.max(), 1024)\n",
    "plt.plot(_t, sinusoid_model(true_p, _t, true_P), marker=None, color='lightblue')\n",
    "data.plot(ax=plt.gca())"
   ]
  },
  {
   "cell_type": "markdown",
   "metadata": {},
   "source": [
    "## Grid in periods"
   ]
  },
  {
   "cell_type": "markdown",
   "metadata": {},
   "source": [
    "The claim for period spacing: \n",
    "$$\n",
    "dP = \\frac{P^2}{2\\pi T_{\\rm max}}\n",
    "$$"
   ]
  },
  {
   "cell_type": "code",
   "execution_count": null,
   "metadata": {
    "collapsed": true
   },
   "outputs": [],
   "source": [
    "P_grid, dP_grid = period_grid(data, resolution=2, P_min=10.)"
   ]
  },
  {
   "cell_type": "markdown",
   "metadata": {},
   "source": [
    "The model: \n",
    "$$\n",
    "\\sum_{k=1}^1 \\left[a_k \\cos\\left(\\frac{2\\pi k t}{P}\\right) + b_k \\sin\\left(\\frac{2\\pi k t}{P}\\right)\\right] + v_0\n",
    "$$"
   ]
  },
  {
   "cell_type": "code",
   "execution_count": null,
   "metadata": {
    "collapsed": false
   },
   "outputs": [],
   "source": [
    "marginal_ln_likelihood(53., data)"
   ]
  },
  {
   "cell_type": "code",
   "execution_count": null,
   "metadata": {
    "collapsed": false
   },
   "outputs": [],
   "source": [
    "marg_ln_likes = np.array([marginal_ln_likelihood(P, data) for P in P_grid])"
   ]
  },
  {
   "cell_type": "code",
   "execution_count": null,
   "metadata": {
    "collapsed": false
   },
   "outputs": [],
   "source": [
    "plt.figure(figsize=(12,6))\n",
    "plt.semilogx(P_grid, marg_ln_likes)\n",
    "plt.axvline(true_P, color='r', alpha=0.25)\n",
    "plt.xlim(P_grid.min(), P_grid.max())\n",
    "# plt.xlim(1.4, 1.45)"
   ]
  },
  {
   "cell_type": "code",
   "execution_count": null,
   "metadata": {
    "collapsed": true
   },
   "outputs": [],
   "source": [
    "# assuming prior on periods flat in ln(P)\n",
    "probs = np.exp(marg_ln_likes - marg_ln_likes.max()) * dP_grid / P_grid"
   ]
  },
  {
   "cell_type": "code",
   "execution_count": null,
   "metadata": {
    "collapsed": false
   },
   "outputs": [],
   "source": [
    "plt.figure(figsize=(12,6))\n",
    "plt.loglog(P_grid, probs)\n",
    "plt.axvline(true_P, color='r', alpha=0.25)\n",
    "plt.xlim(P_grid.min(), P_grid.max())\n",
    "plt.ylim(1E-9, 1E0)"
   ]
  },
  {
   "cell_type": "code",
   "execution_count": null,
   "metadata": {
    "collapsed": false
   },
   "outputs": [],
   "source": [
    "norm_cumsum = np.cumsum(probs) / probs.sum()\n",
    "\n",
    "plt.figure(figsize=(12,6))\n",
    "plt.semilogx(P_grid, norm_cumsum)\n",
    "plt.axvline(true_P, color='r', alpha=0.25)\n",
    "plt.xlim(P_grid.min(), P_grid.max())"
   ]
  },
  {
   "cell_type": "code",
   "execution_count": null,
   "metadata": {
    "collapsed": false
   },
   "outputs": [],
   "source": [
    "plt.figure(figsize=(12,6))\n",
    "\n",
    "bins = np.logspace(np.log10(P_grid.min()), np.log10(P_grid.max()), 128)\n",
    "plt.hist(sample_posterior(P_grid, probs, size=8192), bins=bins);\n",
    "\n",
    "plt.xscale('log')\n",
    "plt.yscale('log')\n",
    "plt.xlim(P_grid.min(), P_grid.max())"
   ]
  },
  {
   "cell_type": "code",
   "execution_count": null,
   "metadata": {
    "collapsed": true
   },
   "outputs": [],
   "source": [
    "def build_the_sampling(Ps, data):\n",
    "    samples = np.zeros((len(Ps), 4))\n",
    "    for i,P in enumerate(Ps):\n",
    "        invvar,mean,_ = tensor_vector_scalar(P, data)\n",
    "        cov = np.linalg.inv(invvar)\n",
    "        samples[i,0] = P\n",
    "        samples[i,1:] = np.random.multivariate_normal(mean, cov)    \n",
    "    \n",
    "    return samples"
   ]
  },
  {
   "cell_type": "code",
   "execution_count": null,
   "metadata": {
    "collapsed": true
   },
   "outputs": [],
   "source": [
    "Ps = sample_posterior(P_grid, probs, size=32)\n",
    "samples = build_the_sampling(Ps, data)"
   ]
  },
  {
   "cell_type": "code",
   "execution_count": null,
   "metadata": {
    "collapsed": false
   },
   "outputs": [],
   "source": [
    "plt.figure(figsize=(15,5))\n",
    "\n",
    "# plot the curve for the true model\n",
    "_t = np.linspace(t.min(), t.max(), 1024)\n",
    "\n",
    "for sample in samples:\n",
    "    P,*p = sample\n",
    "    model_rv = (sinusoid_model(p, _t, P)*u.au/u.day).to(u.km/u.s)\n",
    "    plt.plot(_t, model_rv, marker=None, alpha=0.1, color='r')\n",
    "\n",
    "plt.errorbar(t, rv, yerr=sigma, marker='o', linestyle='none', color='k')\n",
    "plt.xlim(t.min(), t.max())\n",
    "plt.xlabel('MJD')\n",
    "plt.ylabel('RV [km s$^{-1}$]')"
   ]
  },
  {
   "cell_type": "code",
   "execution_count": null,
   "metadata": {
    "collapsed": false
   },
   "outputs": [],
   "source": [
    "a1,b1 = samples[:,2:].T\n",
    "Ksini = np.sqrt(a1**2 + b1**2)\n",
    "asini = Ksini*samples[:,0]/(2*np.pi) # * np.sqrt(1 - ecc**2) # - is this right? might just be K\n",
    "phi0 = np.arccos(a1 / Ksini)"
   ]
  },
  {
   "cell_type": "code",
   "execution_count": null,
   "metadata": {
    "collapsed": false
   },
   "outputs": [],
   "source": [
    "plt.figure(figsize=(15,5))\n",
    "\n",
    "# plot the curve for the true model\n",
    "_t = np.linspace(t.min(), t.max(), 1024)\n",
    "\n",
    "for idx in range(5,6):\n",
    "    sample = samples[idx]\n",
    "    P,*p = sample\n",
    "    model_rv = (sinusoid_model(p, _t, P)*u.au/u.day).to(u.km/u.s)\n",
    "    plt.plot(_t, model_rv, marker=None, alpha=0.2, color='r')\n",
    "\n",
    "    v0,a1,b1 = p\n",
    "    Ksini = np.sqrt(a1**2 + b1**2)\n",
    "    asini = Ksini*P/(2*np.pi) # * np.sqrt(1 - ecc**2) # - is this right? might just be K\n",
    "    phi0 = np.arctan2(b1, a1)\n",
    "    orbit = SimulatedRVOrbit(P*u.day, asini*u.au, ecc=0., omega=0.*u.radian, \n",
    "                             phi0=phi0*u.radian, v0=-v0*u.au/u.day)\n",
    "    plt.plot(_t, orbit.generate_rv_curve(_t), linestyle='--', marker=None, alpha=0.25, color='b')\n",
    "\n",
    "plt.errorbar(t, rv, yerr=sigma, marker='o', linestyle='none', color='k')\n",
    "plt.xlim(t.min(), t.max())"
   ]
  },
  {
   "cell_type": "code",
   "execution_count": null,
   "metadata": {
    "collapsed": true
   },
   "outputs": [],
   "source": []
  }
 ],
 "metadata": {
  "anaconda-cloud": {},
  "kernelspec": {
   "display_name": "Python [conda env:ebak]",
   "language": "python",
   "name": "conda-env-ebak-py"
  },
  "language_info": {
   "codemirror_mode": {
    "name": "ipython",
    "version": 3
   },
   "file_extension": ".py",
   "mimetype": "text/x-python",
   "name": "python",
   "nbconvert_exporter": "python",
   "pygments_lexer": "ipython3",
   "version": "3.5.1"
  }
 },
 "nbformat": 4,
 "nbformat_minor": 1
}