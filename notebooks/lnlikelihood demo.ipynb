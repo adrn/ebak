{
 "cells": [
  {
   "cell_type": "code",
   "execution_count": null,
   "metadata": {
    "collapsed": true
   },
   "outputs": [],
   "source": [
    "import astropy.units as u\n",
    "import matplotlib.pyplot as pl\n",
    "pl.style.use('apw-notebook')\n",
    "%matplotlib inline\n",
    "import numpy as np\n",
    "from scipy.optimize import leastsq\n",
    "from scipy.interpolate import interp1d\n",
    "import matplotlib.gridspec as gridspec\n",
    "\n",
    "import ebak.inference as einf\n",
    "import ebak.io as eio"
   ]
  },
  {
   "cell_type": "code",
   "execution_count": null,
   "metadata": {
    "collapsed": true
   },
   "outputs": [],
   "source": [
    "data_file = \"../data/apVisit-r5-6994-56770-261.fits\"\n",
    "ref_file = \"../data/apStar-r5-2M00004994+1621552.fits\""
   ]
  },
  {
   "cell_type": "code",
   "execution_count": null,
   "metadata": {
    "collapsed": true
   },
   "outputs": [],
   "source": [
    "chip_idx = 2\n",
    "data_spec = eio.load_apVisit(data_file, chip=chip_idx)"
   ]
  },
  {
   "cell_type": "code",
   "execution_count": null,
   "metadata": {
    "collapsed": true
   },
   "outputs": [],
   "source": [
    "ref_spec = eio.load_apStar(ref_file)\n",
    "\n",
    "# only need the reference spectrum over the range of wavelengths considered (here, chip=2)\n",
    "ix = (ref_spec['wvln'] > data_spec['wvln'].min()) & (ref_spec['wvln'] < data_spec['wvln'].max())\n",
    "for key in ref_spec.keys():\n",
    "    ref_spec[key] = ref_spec[key][ix][32:-32]\n",
    "\n",
    "ref_spec['interp'] = interp1d(ref_spec['wvln'], ref_spec['flux'], kind='cubic', bounds_error=False)\n",
    "\n",
    "# trim data spectrum to have ~same wavelength coverage\n",
    "for key in data_spec.keys():\n",
    "    ix = (data_spec['wvln'] > ref_spec['wvln'].min()) & (data_spec['wvln'] < ref_spec['wvln'].max())\n",
    "    data_spec[key] = data_spec[key][ix]"
   ]
  },
  {
   "cell_type": "code",
   "execution_count": null,
   "metadata": {
    "collapsed": false
   },
   "outputs": [],
   "source": [
    "pl.plot(ref_spec['wvln'], ref_spec['flux'], drawstyle='steps', marker=None)\n",
    "pl.plot(data_spec['wvln'], data_spec['flux']/3, drawstyle='steps', marker=None)"
   ]
  },
  {
   "cell_type": "markdown",
   "metadata": {},
   "source": [
    "Velocities are in km/s -- ln likelihood parameter vector just takes [v1, v2] and the two spectra"
   ]
  },
  {
   "cell_type": "code",
   "execution_count": null,
   "metadata": {
    "collapsed": false
   },
   "outputs": [],
   "source": [
    "einf.ln_likelihood([35.,-5], data_spec, ref_spec)"
   ]
  },
  {
   "cell_type": "code",
   "execution_count": null,
   "metadata": {
    "collapsed": true
   },
   "outputs": [],
   "source": []
  }
 ],
 "metadata": {
  "kernelspec": {
   "display_name": "Environment (ebak)",
   "language": "",
   "name": "ebak"
  },
  "language_info": {
   "codemirror_mode": {
    "name": "ipython",
    "version": 3
   },
   "file_extension": ".py",
   "mimetype": "text/x-python",
   "name": "python",
   "nbconvert_exporter": "python",
   "pygments_lexer": "ipython3",
   "version": "3.5.1"
  }
 },
 "nbformat": 4,
 "nbformat_minor": 0
}